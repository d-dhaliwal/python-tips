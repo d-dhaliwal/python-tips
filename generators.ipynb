{
 "cells": [
  {
   "cell_type": "code",
   "execution_count": 5,
   "id": "81fcb1b1",
   "metadata": {},
   "outputs": [],
   "source": [
    "def fibonacci(n):\n",
    "    results = []\n",
    "    a = b = 1\n",
    "    for i in range(n):\n",
    "        a, b = b, a + b\n",
    "        results.append(a)\n",
    "    return results"
   ]
  },
  {
   "cell_type": "code",
   "execution_count": 11,
   "id": "bc39af74",
   "metadata": {},
   "outputs": [
    {
     "data": {
      "text/plain": [
       "'/Users/owner/Desktop/study/python'"
      ]
     },
     "execution_count": 11,
     "metadata": {},
     "output_type": "execute_result"
    }
   ],
   "source": [
    "pwd"
   ]
  },
  {
   "cell_type": "code",
   "execution_count": 12,
   "id": "6e054fed",
   "metadata": {},
   "outputs": [],
   "source": [
    "file_path = '/Users/owner/Desktop/test.csv'"
   ]
  },
  {
   "cell_type": "code",
   "execution_count": 6,
   "id": "9bf67e2b",
   "metadata": {},
   "outputs": [
    {
     "name": "stdout",
     "output_type": "stream",
     "text": [
      "[1, 2, 3, 5, 8, 13, 21, 34, 55, 89, 144, 233, 377, 610, 987, 1597, 2584, 4181, 6765, 10946, 17711, 28657, 46368, 75025, 121393, 196418, 317811, 514229, 832040, 1346269, 2178309, 3524578, 5702887, 9227465, 14930352, 24157817, 39088169, 63245986, 102334155, 165580141, 267914296, 433494437, 701408733, 1134903170, 1836311903, 2971215073, 4807526976, 7778742049, 12586269025, 20365011074, 32951280099, 53316291173, 86267571272, 139583862445, 225851433717, 365435296162, 591286729879, 956722026041, 1548008755920, 2504730781961, 4052739537881, 6557470319842, 10610209857723, 17167680177565, 27777890035288, 44945570212853, 72723460248141, 117669030460994, 190392490709135, 308061521170129, 498454011879264, 806515533049393, 1304969544928657, 2111485077978050, 3416454622906707, 5527939700884757, 8944394323791464, 14472334024676221, 23416728348467685, 37889062373143906, 61305790721611591, 99194853094755497, 160500643816367088, 259695496911122585, 420196140727489673, 679891637638612258, 1100087778366101931, 1779979416004714189, 2880067194370816120, 4660046610375530309, 7540113804746346429, 12200160415121876738, 19740274219868223167, 31940434634990099905, 51680708854858323072, 83621143489848422977, 135301852344706746049, 218922995834555169026, 354224848179261915075, 573147844013817084101]\n"
     ]
    }
   ],
   "source": [
    "fibonacci(100)"
   ]
  },
  {
   "cell_type": "code",
   "execution_count": 13,
   "id": "4866eb07",
   "metadata": {},
   "outputs": [
    {
     "name": "stdout",
     "output_type": "stream",
     "text": [
      "['\\ufeffsite', 'lat', 'lon']\n",
      "['site_1', '45.949385', '-119.167708']\n",
      "['site_2', '45.942307', '-119.169017']\n",
      "['site_3', '45.951459', '-119.175511']\n",
      "['site_4', '45.957027', '-119.176948']\n",
      "['site_5', '45.940478', '-119.177048']\n",
      "['site_6', '45.945948', '-119.18257']\n",
      "['site_7', '45.952741', '-119.184235']\n",
      "['site_8', '45.959095', '-119.184542']\n",
      "['site_9', '45.948369', '-119.192248']\n",
      "['site_10', '45.955229', '-119.193284']\n",
      "['site_11', '45.954188', '-119.20063']\n",
      "['site_12', '45.947547', '-119.201847']\n",
      "['site_13', '45.951042', '-119.208648']\n",
      "['site_14', '45.944758', '-119.209459']\n",
      "['site_15', '46.017974', '-119.214771']\n",
      "['site_16', '45.993106', '-119.215366']\n",
      "['site_17', '45.981318', '-119.215367']\n"
     ]
    }
   ],
   "source": [
    "import csv\n",
    "with open(file_path, 'r') as fout:\n",
    "    reader = csv.reader(fout)\n",
    "    for row in reader:\n",
    "        print(row)"
   ]
  },
  {
   "cell_type": "code",
   "execution_count": 18,
   "id": "02341c3c",
   "metadata": {},
   "outputs": [],
   "source": [
    "def fibonacci(n):\n",
    "    results = []\n",
    "    a = b = 1\n",
    "    for i in range(n):\n",
    "        results.append(a)\n",
    "        a, b = b, a + b\n",
    "    return results\n"
   ]
  },
  {
   "cell_type": "code",
   "execution_count": 19,
   "id": "7ecea9f8",
   "metadata": {},
   "outputs": [
    {
     "data": {
      "text/plain": [
       "[1, 1, 2, 3, 5, 8, 13, 21, 34, 55]"
      ]
     },
     "execution_count": 19,
     "metadata": {},
     "output_type": "execute_result"
    }
   ],
   "source": [
    "fibonacci(10)"
   ]
  },
  {
   "cell_type": "code",
   "execution_count": 21,
   "id": "38699470",
   "metadata": {},
   "outputs": [
    {
     "name": "stdout",
     "output_type": "stream",
     "text": [
      "apple\n",
      "banana\n",
      "cat\n",
      "dog\n",
      "egoseismic\n",
      "facepalm\n",
      "gringo\n",
      "hilarious\n",
      "iPhone\n",
      "John Lennon\n",
      "KDE\n",
      "lemonsaurus\n",
      "Mickey Mouse\n",
      "Netherrealm\n",
      "of course\n",
      "pokerface\n"
     ]
    }
   ],
   "source": [
    "DICTIONARY = {\n",
    "    'a': 'apple',\n",
    "    'b': 'banana',\n",
    "    'c': 'cat',\n",
    "    'd': 'dog',\n",
    "    'e': 'egoseismic',\n",
    "    'f': 'facepalm',\n",
    "    'g': 'gringo',\n",
    "    'h': 'hilarious',\n",
    "    'i': 'iPhone',\n",
    "    'j': 'John Lennon',\n",
    "    'k': 'KDE',\n",
    "    'l': 'lemonsaurus',\n",
    "    'm': 'Mickey Mouse',\n",
    "    'n': 'Netherrealm',\n",
    "    'o': 'of course',\n",
    "    'p': 'pokerface',\n",
    "}\n",
    "\n",
    "def get_names(dict):\n",
    "    for key, value in dict.items():\n",
    "        yield value\n",
    "        \n",
    "names = get_names(DICTIONARY)\n",
    "for name in names:\n",
    "    print(name)\n"
   ]
  },
  {
   "cell_type": "code",
   "execution_count": 25,
   "id": "5b44258c",
   "metadata": {},
   "outputs": [
    {
     "ename": "StopIteration",
     "evalue": "",
     "output_type": "error",
     "traceback": [
      "\u001b[0;31m---------------------------------------------------------------------------\u001b[0m",
      "\u001b[0;31mStopIteration\u001b[0m                             Traceback (most recent call last)",
      "\u001b[0;32m/var/folders/k_/dkz9t61s6f37xv6pbfz_x8ww0000gn/T/ipykernel_51264/2805285576.py\u001b[0m in \u001b[0;36m<module>\u001b[0;34m\u001b[0m\n\u001b[0;32m----> 1\u001b[0;31m \u001b[0mnext\u001b[0m\u001b[0;34m(\u001b[0m\u001b[0mnames\u001b[0m\u001b[0;34m)\u001b[0m\u001b[0;34m\u001b[0m\u001b[0;34m\u001b[0m\u001b[0m\n\u001b[0m",
      "\u001b[0;31mStopIteration\u001b[0m: "
     ]
    }
   ],
   "source": [
    "next(names)"
   ]
  },
  {
   "cell_type": "code",
   "execution_count": null,
   "id": "0e1efe21",
   "metadata": {},
   "outputs": [],
   "source": [
    "# https://docs.python.org/3/library/typing.html#typing.Generator\n",
    "\n",
    "\n",
    "\n",
    "# 💥💥💥 Simple generator: yield values one by one\n",
    "# This function pauses to return a value to the outer scope, then proceeds\n",
    "DICTIONARY = {\n",
    "    'a': 'apple',\n",
    "    'b': 'banana',\n",
    "    'c': 'cat',\n",
    "    'd': 'dog',\n",
    "    'e': 'egoseismic',\n",
    "    'f': 'facepalm',\n",
    "    'g': 'gringo',\n",
    "    'h': 'hilarious',\n",
    "    'i': 'iPhone',\n",
    "    'j': 'John Lennon',\n",
    "    'k': 'KDE',\n",
    "    'l': 'lemonsaurus',\n",
    "    'm': 'Mickey Mouse',\n",
    "    'n': 'Netherrealm',\n",
    "    'o': 'of course',\n",
    "    'p': 'pokerface',\n",
    "}\n",
    "\n",
    "def alphabet():\n",
    "    for letter, word in DICTIONARY.items():\n",
    "        yield word  # yield values one by one\n",
    "\n",
    "\n",
    "\n",
    "\n",
    "# 💥💥💥 High-level API: just iterate it\n",
    "for word in alphabet():\n",
    "    print(word)\n",
    "# -> apple\n",
    "# -> banana\n",
    "# -> ...\n",
    "\n",
    "\n",
    "\n",
    "# 💥💥💥 Low-level usage: use next() to obtain another value.\n",
    "g = alphabet()\n",
    "print(g)  # -> <generator object alphabet at 0x7f425c7bbe40>\n",
    "word = next(g)  # 'apple'\n",
    "print(word)  # -> 'apple'\n",
    "\n",
    "\n",
    "\n",
    "\n",
    "\n",
    "# 💥💥💥 WHen it reaches the end, a StopIteration error is raised\n",
    "\n",
    "# This generator `g` will raise a StopIteration immediately because it's been exhausted in the previous example.\n",
    "# It has nothing else to yield\n",
    "try:\n",
    "    while True:\n",
    "        word = next(g)  # raises: StopIteration\n",
    "        print(word)\n",
    "except StopIteration:\n",
    "    print('-- done')\n",
    "\n",
    "\n",
    "\n",
    "# 💥💥💥 Generators can also receive values: they support bi-directional communication!\n",
    "# The `yield` keyword can also *receive* values: a generator becomes a \"listener\" for incoming values\n",
    "# In this example, `alphabet()` gets a value\n",
    "\n",
    "def alphabet():\n",
    "    \"\"\" Example generator with bi-directional data flow\n",
    "    Input: letters\n",
    "    Output: words\n",
    "    \"\"\"\n",
    "    word = None\n",
    "    while True:\n",
    "        # Communication point:\n",
    "        # Input: a letter\n",
    "        # Output: a word\n",
    "        letter = yield word\n",
    "        word = DICTIONARY[letter]  # convert it into a word\n",
    "\n",
    "    # You can also return a value.\n",
    "    # We'll check this example out later\n",
    "    return word  # Speak your final word\n",
    "\n",
    "\n",
    "g = alphabet()\n",
    "next(g)  # Initialize the generator. It returns `None` (the initial word)\n",
    "\n",
    "print(g.send('e'))  # egoseismic\n",
    "print(g.send('f'))  # facepalm\n",
    "print(g.send('h'))  # hilarious\n",
    "g.close()  # we're done with it. Returns `None`, always\n",
    "\n",
    "\n",
    "\n",
    "\n",
    "\n",
    "# 💥💥💥 It is possible to raise an error \"into\" the generator and catch it there\n",
    "\n",
    "def alphabet():\n",
    "    word = None\n",
    "    while True:\n",
    "        # Communication point\n",
    "        try:\n",
    "            letter = yield word\n",
    "        # If we were given an exception, return a default word\n",
    "        except KeyError:\n",
    "            word = '(default)'\n",
    "        else:\n",
    "            word = DICTIONARY[letter]  # convert it into a word\n",
    "\n",
    "\n",
    "g = alphabet()\n",
    "next(g)  # Initialize the generator. It returns `None` (the initial word)\n",
    "\n",
    "print(g.throw(KeyError()))  # (default)\n",
    "print(g.send('i'))  # iPhone\n",
    "g.close()\n",
    "\n",
    "# NOTE that:\n",
    "# When a generator throws an exception, it exits. You can't continue consuming the items it generates.\n",
    "\n",
    "\n",
    "\n",
    "\n",
    "\n",
    "\n",
    "\n",
    "# 💥💥💥 A generator that uses `yield` to request data from the outside\n",
    "# This use case, however, is a little inside-out. Makes very little sense. But you can :)\n",
    "\n",
    "def gimme_words():\n",
    "    # Start building a sentence\n",
    "    sentence = []\n",
    "    for letter in 'abcdef':\n",
    "        # Give every letter to some external caller and expect them to give us a word\n",
    "        word = yield letter\n",
    "        # Keep building the sentence\n",
    "        sentence.append(word)\n",
    "\n",
    "    # Return the sentence!\n",
    "    return ' '.join(sentence)\n",
    "\n",
    "\n",
    "# Initialize the generator\n",
    "g = gimme_words()\n",
    "\n",
    "# Keep going while we can\n",
    "try:\n",
    "    word = None\n",
    "    while True:\n",
    "        # Send the initial `None` to the generator. We just have to.\n",
    "        letter = g.send(word)\n",
    "        # Convert the letter that the generator gives us into a word and give it back to the generator\n",
    "        word = DICTIONARY[letter]\n",
    "# When done, print the resulting value\n",
    "except StopIteration as e:\n",
    "    print(e.value)\n",
    "finally:\n",
    "    g.close()"
   ]
  }
 ],
 "metadata": {
  "kernelspec": {
   "display_name": "Python 3 (ipykernel)",
   "language": "python",
   "name": "python3"
  },
  "language_info": {
   "codemirror_mode": {
    "name": "ipython",
    "version": 3
   },
   "file_extension": ".py",
   "mimetype": "text/x-python",
   "name": "python",
   "nbconvert_exporter": "python",
   "pygments_lexer": "ipython3",
   "version": "3.9.7"
  }
 },
 "nbformat": 4,
 "nbformat_minor": 5
}
