{
 "cells": [
  {
   "cell_type": "code",
   "execution_count": 1,
   "id": "066aeec0",
   "metadata": {},
   "outputs": [],
   "source": [
    "# create a function to greet multiple friends\n",
    "def multi_greet(*args):\n",
    "    for arg in args:\n",
    "        print(f'Hello, {arg}!')"
   ]
  },
  {
   "cell_type": "code",
   "execution_count": 2,
   "id": "8c9313cc",
   "metadata": {},
   "outputs": [
    {
     "name": "stdout",
     "output_type": "stream",
     "text": [
      "Hello, Alex!\n",
      "Hello, Sam!\n",
      "Hello, Raj!\n",
      "Hello, Les!\n"
     ]
    }
   ],
   "source": [
    "multi_greet(\"Alex\", \"Sam\",\"Raj\", \"Les\")"
   ]
  },
  {
   "cell_type": "markdown",
   "id": "ec8c7870",
   "metadata": {},
   "source": [
    "### Create a function that accepts any number of numbers as positional arguments and prints the sum of those numbers. "
   ]
  },
  {
   "cell_type": "code",
   "execution_count": 3,
   "id": "847cc4d6",
   "metadata": {},
   "outputs": [],
   "source": [
    "def num_sum(*nums):\n",
    "    result = 0\n",
    "    for num in nums:\n",
    "        result += num\n",
    "    return result        "
   ]
  },
  {
   "cell_type": "code",
   "execution_count": 4,
   "id": "7a30a596",
   "metadata": {},
   "outputs": [
    {
     "data": {
      "text/plain": [
       "53"
      ]
     },
     "execution_count": 4,
     "metadata": {},
     "output_type": "execute_result"
    }
   ],
   "source": [
    "num_sum(1,2,14,12,12,12)"
   ]
  },
  {
   "cell_type": "markdown",
   "id": "c07e1b0e",
   "metadata": {},
   "source": [
    "### Create a function that accepts any number of positional and keyword arguments, and that prints them back to the user."
   ]
  },
  {
   "cell_type": "code",
   "execution_count": 5,
   "id": "2ece6f06",
   "metadata": {},
   "outputs": [],
   "source": [
    "def new_func(*args, **kwargs):\n",
    "    print(\"positional arguments:\", args)\n",
    "    print(\"keyword argument:\", kwargs)"
   ]
  },
  {
   "cell_type": "code",
   "execution_count": 6,
   "id": "55989cd1",
   "metadata": {},
   "outputs": [
    {
     "name": "stdout",
     "output_type": "stream",
     "text": [
      "positional arguments: (1, 2, 3)\n",
      "keyword argument: {'name': 'Phil', 'age': 29}\n"
     ]
    }
   ],
   "source": [
    "new_func(1,2,3,name = \"Phil\", age = 29)"
   ]
  },
  {
   "cell_type": "code",
   "execution_count": 7,
   "id": "37cdfe56",
   "metadata": {},
   "outputs": [
    {
     "name": "stdout",
     "output_type": "stream",
     "text": [
      "1\n",
      "2\n",
      "3\n",
      "4\n",
      "5\n",
      "6\n",
      "7\n",
      "8\n",
      "9\n",
      "10\n",
      "11\n",
      "12\n",
      "13\n",
      "14\n",
      "15\n",
      "16\n",
      "17\n",
      "18\n",
      "19\n",
      "20\n"
     ]
    }
   ],
   "source": [
    "def num_print(*num_list):\n",
    "    for num in num_list:\n",
    "        print(num)\n",
    "\n",
    "# Create a list of numbers from 1 to 20 using the range function\n",
    "numbers = list(range(1, 21))\n",
    "\n",
    "# Call the num_print function and unpack the list using *\n",
    "num_print(*numbers)"
   ]
  },
  {
   "cell_type": "code",
   "execution_count": 8,
   "id": "8f207f9f",
   "metadata": {},
   "outputs": [
    {
     "name": "stdout",
     "output_type": "stream",
     "text": [
      "Country: Germany\n",
      "Population: 83 million\n",
      "Capital: Berlin\n",
      "Currency: Euro\n"
     ]
    }
   ],
   "source": [
    "country = {\n",
    "    \"name\": \"Germany\",\n",
    "    \"population\": \"83 million\",\n",
    "    \"capital\": \"Berlin\",\n",
    "    \"currency\": \"Euro\"\n",
    "}\n",
    "\n",
    "# Using format method and ** unpacking\n",
    "formatted_string = \"Country: {name}\\nPopulation: {population}\\nCapital: {capital}\\nCurrency: {currency}\".format(**country)\n",
    "\n",
    "# Print the formatted string\n",
    "print(formatted_string)\n",
    "     "
   ]
  },
  {
   "cell_type": "code",
   "execution_count": 9,
   "id": "5113389d",
   "metadata": {},
   "outputs": [],
   "source": [
    "def my_args_func(*args):\n",
    "    for arg in args:\n",
    "        print(arg)"
   ]
  },
  {
   "cell_type": "code",
   "execution_count": 10,
   "id": "edcc3c2d",
   "metadata": {},
   "outputs": [
    {
     "name": "stdout",
     "output_type": "stream",
     "text": [
      "[1, 2]\n",
      "3\n",
      "5\n"
     ]
    }
   ],
   "source": [
    "my_args_func([1,2],3,5)"
   ]
  },
  {
   "cell_type": "code",
   "execution_count": 11,
   "id": "1eacb95e",
   "metadata": {},
   "outputs": [
    {
     "name": "stdout",
     "output_type": "stream",
     "text": [
      "(1, 2, 2)\n",
      "AD\n",
      "[1, 'SA']\n"
     ]
    }
   ],
   "source": [
    "my_args_func((1,2,2),\"AD\",[1,\"SA\"])"
   ]
  },
  {
   "cell_type": "code",
   "execution_count": 12,
   "id": "143a93d5",
   "metadata": {},
   "outputs": [],
   "source": [
    "def my_function(arg1, arg2, *args, kwarg1=\"default\", **kwargs):\n",
    "    print(\"arg1:\", arg1)\n",
    "    print(\"arg2:\", arg2)\n",
    "    print(\"additional args:\", args)\n",
    "    print(\"kwarg1:\", kwarg1)\n",
    "    print(\"additional kwargs:\", kwargs)\n"
   ]
  },
  {
   "cell_type": "code",
   "execution_count": 13,
   "id": "d76cc6d4",
   "metadata": {},
   "outputs": [
    {
     "name": "stdout",
     "output_type": "stream",
     "text": [
      "arg1: 1\n",
      "arg2: 2\n",
      "additional args: (3, 4)\n",
      "kwarg1: custom\n",
      "additional kwargs: {'name': 'Alice', 'age': 30}\n"
     ]
    }
   ],
   "source": [
    "my_function(1, 2, 3, 4, kwarg1 = \"custom\", name=\"Alice\", age=30)\n"
   ]
  }
 ],
 "metadata": {
  "kernelspec": {
   "display_name": "Python 3 (ipykernel)",
   "language": "python",
   "name": "python3"
  },
  "language_info": {
   "codemirror_mode": {
    "name": "ipython",
    "version": 3
   },
   "file_extension": ".py",
   "mimetype": "text/x-python",
   "name": "python",
   "nbconvert_exporter": "python",
   "pygments_lexer": "ipython3",
   "version": "3.9.7"
  }
 },
 "nbformat": 4,
 "nbformat_minor": 5
}
