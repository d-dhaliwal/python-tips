{
 "cells": [
  {
   "cell_type": "code",
   "execution_count": 13,
   "id": "73cf45b5",
   "metadata": {},
   "outputs": [
    {
     "name": "stdout",
     "output_type": "stream",
     "text": [
      "0 --- cat\n",
      "1 --- dog\n",
      "2 --- pig\n",
      "3 --- rabbit\n"
     ]
    }
   ],
   "source": [
    "animals = ['cat', 'dog', 'pig', 'rabbit']\n",
    "for index, animal in enumerate(animals):\n",
    "    print(f'{index} --- {animal}')"
   ]
  },
  {
   "cell_type": "code",
   "execution_count": 16,
   "id": "ecf674b1",
   "metadata": {},
   "outputs": [
    {
     "name": "stdout",
     "output_type": "stream",
     "text": [
      "['dog', 'rabbit', 'pig', 'cat']\n"
     ]
    }
   ],
   "source": [
    "print(animals)"
   ]
  },
  {
   "cell_type": "code",
   "execution_count": 20,
   "id": "18c4cb6e",
   "metadata": {},
   "outputs": [
    {
     "data": {
      "text/plain": [
       "['cat', 'pig', 'rabbit', 'dog']"
      ]
     },
     "execution_count": 20,
     "metadata": {},
     "output_type": "execute_result"
    }
   ],
   "source": [
    "import random\n",
    "random.shuffle(animals) #randomly shuffle\n",
    "animals"
   ]
  },
  {
   "cell_type": "code",
   "execution_count": 22,
   "id": "b973757e",
   "metadata": {},
   "outputs": [
    {
     "name": "stdout",
     "output_type": "stream",
     "text": [
      "cat is called pickle.\n",
      "dog is called cuddle.\n",
      "pig is called sammy.\n",
      "rabbit is called zomu.\n"
     ]
    }
   ],
   "source": [
    "names = ['pickle', 'cuddle', 'sammy', 'zomu']\n",
    "animals = ['cat', 'dog', 'pig', 'rabbit']\n",
    "\n",
    "# zip function\n",
    "for name, animal in zip(names, animals):\n",
    "    print(f'{animal} is called {name}.')"
   ]
  },
  {
   "cell_type": "code",
   "execution_count": 27,
   "id": "ddc59a3c",
   "metadata": {},
   "outputs": [
    {
     "data": {
      "text/plain": [
       "['sheep', 'cat', 'dog', 'pig', 'rabbit']"
      ]
     },
     "execution_count": 27,
     "metadata": {},
     "output_type": "execute_result"
    }
   ],
   "source": [
    "animals.insert(0, 'sheep')\n",
    "animals"
   ]
  },
  {
   "cell_type": "code",
   "execution_count": 32,
   "id": "3bdb4041",
   "metadata": {},
   "outputs": [],
   "source": [
    "del animals[-1]"
   ]
  },
  {
   "cell_type": "code",
   "execution_count": 33,
   "id": "2a5d727f",
   "metadata": {},
   "outputs": [
    {
     "data": {
      "text/plain": [
       "['sheep', 'cat', 'dog', 'pig', 'rabbit']"
      ]
     },
     "execution_count": 33,
     "metadata": {},
     "output_type": "execute_result"
    }
   ],
   "source": [
    "animals"
   ]
  },
  {
   "cell_type": "code",
   "execution_count": 34,
   "id": "52ab6ae4",
   "metadata": {},
   "outputs": [
    {
     "data": {
      "text/plain": [
       "['sheep', 'cat', 'dog', 'pig', 'rabbit', 'pickle', 'cuddle', 'sammy', 'zomu']"
      ]
     },
     "execution_count": 34,
     "metadata": {},
     "output_type": "execute_result"
    }
   ],
   "source": [
    "animals.extend(names)\n",
    "animals"
   ]
  },
  {
   "cell_type": "code",
   "execution_count": 35,
   "id": "e622b644",
   "metadata": {},
   "outputs": [
    {
     "data": {
      "text/plain": [
       "140403324515520"
      ]
     },
     "execution_count": 35,
     "metadata": {},
     "output_type": "execute_result"
    }
   ],
   "source": [
    "import copy\n",
    "id(animals)"
   ]
  },
  {
   "cell_type": "code",
   "execution_count": 36,
   "id": "f88d5d04",
   "metadata": {},
   "outputs": [
    {
     "data": {
      "text/plain": [
       "140403324525632"
      ]
     },
     "execution_count": 36,
     "metadata": {},
     "output_type": "execute_result"
    }
   ],
   "source": [
    "animals_1 = copy.copy(animals)\n",
    "id(animals_1)"
   ]
  },
  {
   "cell_type": "code",
   "execution_count": 39,
   "id": "b3082b91",
   "metadata": {},
   "outputs": [
    {
     "data": {
      "text/plain": [
       "['donkey', 'cat', 'dog', 'pig', 'rabbit', 'pickle', 'cuddle', 'sammy', 'zomu']"
      ]
     },
     "execution_count": 39,
     "metadata": {},
     "output_type": "execute_result"
    }
   ],
   "source": [
    "animals_1[0] = 'donkey'\n",
    "animals_1"
   ]
  },
  {
   "cell_type": "code",
   "execution_count": 40,
   "id": "de5402c7",
   "metadata": {},
   "outputs": [
    {
     "data": {
      "text/plain": [
       "['sheep', 'cat', 'dog', 'pig', 'rabbit', 'pickle', 'cuddle', 'sammy', 'zomu']"
      ]
     },
     "execution_count": 40,
     "metadata": {},
     "output_type": "execute_result"
    }
   ],
   "source": [
    "animals"
   ]
  },
  {
   "cell_type": "code",
   "execution_count": 41,
   "id": "2ec0f957",
   "metadata": {},
   "outputs": [],
   "source": [
    "anim = animals\n",
    "anim[0] = 'donkey'"
   ]
  },
  {
   "cell_type": "code",
   "execution_count": 42,
   "id": "c13a3063",
   "metadata": {},
   "outputs": [
    {
     "data": {
      "text/plain": [
       "['donkey', 'cat', 'dog', 'pig', 'rabbit', 'pickle', 'cuddle', 'sammy', 'zomu']"
      ]
     },
     "execution_count": 42,
     "metadata": {},
     "output_type": "execute_result"
    }
   ],
   "source": [
    "anim"
   ]
  },
  {
   "cell_type": "code",
   "execution_count": 43,
   "id": "478f7140",
   "metadata": {},
   "outputs": [
    {
     "data": {
      "text/plain": [
       "['donkey', 'cat', 'dog', 'pig', 'rabbit', 'pickle', 'cuddle', 'sammy', 'zomu']"
      ]
     },
     "execution_count": 43,
     "metadata": {},
     "output_type": "execute_result"
    }
   ],
   "source": [
    "animals"
   ]
  },
  {
   "cell_type": "code",
   "execution_count": null,
   "id": "e883d3a1",
   "metadata": {},
   "outputs": [],
   "source": []
  }
 ],
 "metadata": {
  "kernelspec": {
   "display_name": "Python 3 (ipykernel)",
   "language": "python",
   "name": "python3"
  },
  "language_info": {
   "codemirror_mode": {
    "name": "ipython",
    "version": 3
   },
   "file_extension": ".py",
   "mimetype": "text/x-python",
   "name": "python",
   "nbconvert_exporter": "python",
   "pygments_lexer": "ipython3",
   "version": "3.9.7"
  }
 },
 "nbformat": 4,
 "nbformat_minor": 5
}
